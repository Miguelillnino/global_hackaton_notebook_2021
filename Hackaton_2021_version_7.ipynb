{
  "nbformat": 4,
  "nbformat_minor": 0,
  "metadata": {
    "colab": {
      "name": "Hackaton_2021_version_7.ipynb",
      "provenance": [],
      "collapsed_sections": []
    },
    "kernelspec": {
      "display_name": "Python 3 (ipykernel)",
      "language": "python",
      "name": "python3"
    },
    "language_info": {
      "codemirror_mode": {
        "name": "ipython",
        "version": 3
      },
      "file_extension": ".py",
      "mimetype": "text/x-python",
      "name": "python",
      "nbconvert_exporter": "python",
      "pygments_lexer": "ipython3",
      "version": "3.8.10"
    }
  },
  "cells": [
    {
      "cell_type": "markdown",
      "metadata": {
        "id": "CaT3odwlDAUf"
      },
      "source": [
        "#The Protein Network Graph to Find Bounding Aminoacids using Variational Quantum Circuits.\n",
        "\n",
        "# Variational Quantum Circuits in a Protein Network Graph."
      ]
    },
    {
      "cell_type": "markdown",
      "metadata": {
        "id": "FGIEh3lbssCr"
      },
      "source": [
        "# Objetives\n",
        "\n",
        "* To find bounding amino acids function on a delimited network graph approach that characterized a chemical structure using a variational quantum circuit.\n",
        "* To apply quantum circuits used in graph theory and optimization problems to map 3D-protein structure into chemical interaction network.\n",
        "* Using the QAOA variational form to find an approximate solution for the protein folding quadratic program.\n",
        "* To encourage people to push into quantum computing and solve real molecular biology problems faster than classical methods.\n",
        "\n"
      ]
    },
    {
      "cell_type": "markdown",
      "metadata": {
        "id": "hVRTCA01LFvn"
      },
      "source": [
        "## Introduction. Protein Interactions\n",
        "\n",
        "The main idea of the proposal es to mapp biochemical interactions inside a 3D-protein structure into a graph network. Therefore each edge will correspond to one of the following chemical interactions of the structure:\n",
        "\n",
        "*   Hydrophobic \n",
        "*   Disulfide (bridnge) \n",
        "*   Hydrogen bonds\n",
        "*   Ionic and aromatic (partial)\n",
        "*   Cation- $\\pi$\n",
        "*   Peptide bond\n",
        "\n",
        "On the other hand, nodes will correspond to each amino acid in the .pdb protein file. This file is preprocessed previously (order and prepare the data to be read). We extract the main graph from the PDB (protein database) file and delimit it with a few nodes; after this, we will implement a variational quantum circuit to find the function that maximizes the chemical bounding amino acids representation.\n"
      ]
    },
    {
      "cell_type": "markdown",
      "metadata": {
        "id": "75UTLJCALJg3"
      },
      "source": [
        "\n",
        "## Optimization Problem\n",
        "\n",
        "\n"
      ]
    },
    {
      "cell_type": "markdown",
      "metadata": {
        "id": "1kHxIg01La3u"
      },
      "source": [
        "In this case, we use a small macromolecule 1PLX (the crystal structure obtained by NMR of Methionine-Enkephalin in fast tumbling Bicelles/DMPG), with 5 amino acids (nodes) within just one chain (A).\n",
        "\n",
        "To handle the information of the pdb file and for using the quantum qiskit libraries, the installation of the packages is as follows:\n"
      ]
    },
    {
      "cell_type": "code",
      "metadata": {
        "id": "7xzQzIaUCBiy",
        "colab": {
          "base_uri": "https://localhost:8080/"
        },
        "outputId": "38d908bb-1120-481a-bf46-4d034e20ed0a"
      },
      "source": [
        "!pip install qiskit\n",
        "!pip install biopandas\n",
        "!pip install proteingraph \n",
        "!pip install qiskit-optimization\n",
        "!pip install biopython\n"
      ],
      "execution_count": 1,
      "outputs": [
        {
          "output_type": "stream",
          "name": "stdout",
          "text": [
            "Collecting qiskit\n",
            "  Downloading qiskit-0.32.0.tar.gz (13 kB)\n",
            "Collecting qiskit-terra==0.18.3\n",
            "  Downloading qiskit_terra-0.18.3-cp37-cp37m-manylinux2010_x86_64.whl (6.1 MB)\n",
            "\u001b[K     |████████████████████████████████| 6.1 MB 2.4 MB/s \n",
            "\u001b[?25hCollecting qiskit-aer==0.9.1\n",
            "  Downloading qiskit_aer-0.9.1-cp37-cp37m-manylinux_2_12_x86_64.manylinux2010_x86_64.whl (17.9 MB)\n",
            "\u001b[K     |████████████████████████████████| 17.9 MB 117 kB/s \n",
            "\u001b[?25hCollecting qiskit-ibmq-provider==0.18.0\n",
            "  Downloading qiskit_ibmq_provider-0.18.0-py3-none-any.whl (237 kB)\n",
            "\u001b[K     |████████████████████████████████| 237 kB 54.0 MB/s \n",
            "\u001b[?25hCollecting qiskit-ignis==0.6.0\n",
            "  Downloading qiskit_ignis-0.6.0-py3-none-any.whl (207 kB)\n",
            "\u001b[K     |████████████████████████████████| 207 kB 47.5 MB/s \n",
            "\u001b[?25hCollecting qiskit-aqua==0.9.5\n",
            "  Downloading qiskit_aqua-0.9.5-py3-none-any.whl (2.1 MB)\n",
            "\u001b[K     |████████████████████████████████| 2.1 MB 47.6 MB/s \n",
            "\u001b[?25hRequirement already satisfied: scipy>=1.0 in /usr/local/lib/python3.7/dist-packages (from qiskit-aer==0.9.1->qiskit) (1.4.1)\n",
            "Requirement already satisfied: numpy>=1.16.3 in /usr/local/lib/python3.7/dist-packages (from qiskit-aer==0.9.1->qiskit) (1.19.5)\n",
            "Collecting quandl\n",
            "  Downloading Quandl-3.7.0-py2.py3-none-any.whl (26 kB)\n",
            "Requirement already satisfied: sympy>=1.3 in /usr/local/lib/python3.7/dist-packages (from qiskit-aqua==0.9.5->qiskit) (1.7.1)\n",
            "Collecting dlx<=1.0.4\n",
            "  Downloading dlx-1.0.4.tar.gz (5.5 kB)\n",
            "Requirement already satisfied: fastdtw<=0.3.4 in /usr/local/lib/python3.7/dist-packages (from qiskit-aqua==0.9.5->qiskit) (0.3.4)\n",
            "Requirement already satisfied: psutil>=5 in /usr/local/lib/python3.7/dist-packages (from qiskit-aqua==0.9.5->qiskit) (5.4.8)\n",
            "Requirement already satisfied: h5py<3.3.0 in /usr/local/lib/python3.7/dist-packages (from qiskit-aqua==0.9.5->qiskit) (3.1.0)\n",
            "Collecting docplex>=2.21.207\n",
            "  Downloading docplex-2.22.213.tar.gz (634 kB)\n",
            "\u001b[K     |████████████████████████████████| 634 kB 40.5 MB/s \n",
            "\u001b[?25hCollecting retworkx>=0.8.0\n",
            "  Downloading retworkx-0.10.2-cp37-cp37m-manylinux_2_5_x86_64.manylinux1_x86_64.manylinux_2_12_x86_64.manylinux2010_x86_64.whl (1.4 MB)\n",
            "\u001b[K     |████████████████████████████████| 1.4 MB 57.4 MB/s \n",
            "\u001b[?25hRequirement already satisfied: pandas in /usr/local/lib/python3.7/dist-packages (from qiskit-aqua==0.9.5->qiskit) (1.1.5)\n",
            "Collecting yfinance>=0.1.62\n",
            "  Downloading yfinance-0.1.66-py2.py3-none-any.whl (25 kB)\n",
            "Requirement already satisfied: scikit-learn>=0.20.0 in /usr/local/lib/python3.7/dist-packages (from qiskit-aqua==0.9.5->qiskit) (1.0.1)\n",
            "Requirement already satisfied: setuptools>=40.1.0 in /usr/local/lib/python3.7/dist-packages (from qiskit-aqua==0.9.5->qiskit) (57.4.0)\n",
            "Requirement already satisfied: requests>=2.19 in /usr/local/lib/python3.7/dist-packages (from qiskit-ibmq-provider==0.18.0->qiskit) (2.23.0)\n",
            "Collecting websocket-client>=1.0.1\n",
            "  Downloading websocket_client-1.2.1-py2.py3-none-any.whl (52 kB)\n",
            "\u001b[K     |████████████████████████████████| 52 kB 1.8 MB/s \n",
            "\u001b[?25hRequirement already satisfied: urllib3>=1.21.1 in /usr/local/lib/python3.7/dist-packages (from qiskit-ibmq-provider==0.18.0->qiskit) (1.24.3)\n",
            "Collecting requests-ntlm>=1.1.0\n",
            "  Downloading requests_ntlm-1.1.0-py2.py3-none-any.whl (5.7 kB)\n",
            "Requirement already satisfied: python-dateutil>=2.8.0 in /usr/local/lib/python3.7/dist-packages (from qiskit-ibmq-provider==0.18.0->qiskit) (2.8.2)\n",
            "Collecting fastjsonschema>=2.10\n",
            "  Downloading fastjsonschema-2.15.1-py3-none-any.whl (21 kB)\n",
            "Collecting python-constraint>=1.4\n",
            "  Downloading python-constraint-1.4.0.tar.bz2 (18 kB)\n",
            "Collecting tweedledum<2.0,>=1.1\n",
            "  Downloading tweedledum-1.1.1-cp37-cp37m-manylinux_2_12_x86_64.manylinux2010_x86_64.whl (943 kB)\n",
            "\u001b[K     |████████████████████████████████| 943 kB 40.1 MB/s \n",
            "\u001b[?25hCollecting ply>=3.10\n",
            "  Downloading ply-3.11-py2.py3-none-any.whl (49 kB)\n",
            "\u001b[K     |████████████████████████████████| 49 kB 8.5 MB/s \n",
            "\u001b[?25hRequirement already satisfied: jsonschema>=2.6 in /usr/local/lib/python3.7/dist-packages (from qiskit-terra==0.18.3->qiskit) (2.6.0)\n",
            "Requirement already satisfied: dill>=0.3 in /usr/local/lib/python3.7/dist-packages (from qiskit-terra==0.18.3->qiskit) (0.3.4)\n",
            "Collecting symengine>0.7\n",
            "  Downloading symengine-0.8.1-cp37-cp37m-manylinux2010_x86_64.whl (38.2 MB)\n",
            "\u001b[K     |████████████████████████████████| 38.2 MB 25 kB/s \n",
            "\u001b[?25hRequirement already satisfied: six in /usr/local/lib/python3.7/dist-packages (from docplex>=2.21.207->qiskit-aqua==0.9.5->qiskit) (1.15.0)\n",
            "Requirement already satisfied: cached-property in /usr/local/lib/python3.7/dist-packages (from h5py<3.3.0->qiskit-aqua==0.9.5->qiskit) (1.5.2)\n",
            "Requirement already satisfied: certifi>=2017.4.17 in /usr/local/lib/python3.7/dist-packages (from requests>=2.19->qiskit-ibmq-provider==0.18.0->qiskit) (2021.10.8)\n",
            "Requirement already satisfied: idna<3,>=2.5 in /usr/local/lib/python3.7/dist-packages (from requests>=2.19->qiskit-ibmq-provider==0.18.0->qiskit) (2.10)\n",
            "Requirement already satisfied: chardet<4,>=3.0.2 in /usr/local/lib/python3.7/dist-packages (from requests>=2.19->qiskit-ibmq-provider==0.18.0->qiskit) (3.0.4)\n",
            "Collecting ntlm-auth>=1.0.2\n",
            "  Downloading ntlm_auth-1.5.0-py2.py3-none-any.whl (29 kB)\n",
            "Collecting cryptography>=1.3\n",
            "  Downloading cryptography-35.0.0-cp36-abi3-manylinux_2_24_x86_64.whl (3.5 MB)\n",
            "\u001b[K     |████████████████████████████████| 3.5 MB 59 kB/s \n",
            "\u001b[?25hRequirement already satisfied: cffi>=1.12 in /usr/local/lib/python3.7/dist-packages (from cryptography>=1.3->requests-ntlm>=1.1.0->qiskit-ibmq-provider==0.18.0->qiskit) (1.15.0)\n",
            "Requirement already satisfied: pycparser in /usr/local/lib/python3.7/dist-packages (from cffi>=1.12->cryptography>=1.3->requests-ntlm>=1.1.0->qiskit-ibmq-provider==0.18.0->qiskit) (2.21)\n",
            "Requirement already satisfied: joblib>=0.11 in /usr/local/lib/python3.7/dist-packages (from scikit-learn>=0.20.0->qiskit-aqua==0.9.5->qiskit) (1.1.0)\n",
            "Requirement already satisfied: threadpoolctl>=2.0.0 in /usr/local/lib/python3.7/dist-packages (from scikit-learn>=0.20.0->qiskit-aqua==0.9.5->qiskit) (3.0.0)\n",
            "Requirement already satisfied: mpmath>=0.19 in /usr/local/lib/python3.7/dist-packages (from sympy>=1.3->qiskit-aqua==0.9.5->qiskit) (1.2.1)\n",
            "Requirement already satisfied: multitasking>=0.0.7 in /usr/local/lib/python3.7/dist-packages (from yfinance>=0.1.62->qiskit-aqua==0.9.5->qiskit) (0.0.9)\n",
            "Collecting lxml>=4.5.1\n",
            "  Downloading lxml-4.6.4-cp37-cp37m-manylinux_2_17_x86_64.manylinux2014_x86_64.manylinux_2_24_x86_64.whl (6.3 MB)\n",
            "\u001b[K     |████████████████████████████████| 6.3 MB 46.8 MB/s \n",
            "\u001b[?25hRequirement already satisfied: pytz>=2017.2 in /usr/local/lib/python3.7/dist-packages (from pandas->qiskit-aqua==0.9.5->qiskit) (2018.9)\n",
            "Collecting inflection>=0.3.1\n",
            "  Downloading inflection-0.5.1-py2.py3-none-any.whl (9.5 kB)\n",
            "Requirement already satisfied: more-itertools in /usr/local/lib/python3.7/dist-packages (from quandl->qiskit-aqua==0.9.5->qiskit) (8.11.0)\n",
            "Building wheels for collected packages: qiskit, dlx, docplex, python-constraint\n",
            "  Building wheel for qiskit (setup.py) ... \u001b[?25l\u001b[?25hdone\n",
            "  Created wheel for qiskit: filename=qiskit-0.32.0-py3-none-any.whl size=11773 sha256=c886424c9b9cfb06d665578330860fd2908c47352985a5e57b2c2c4395d57d4f\n",
            "  Stored in directory: /root/.cache/pip/wheels/95/84/c4/6a084a33c1909266fca66eed2303c3883e03f33c905b1ebed9\n",
            "  Building wheel for dlx (setup.py) ... \u001b[?25l\u001b[?25hdone\n",
            "  Created wheel for dlx: filename=dlx-1.0.4-py3-none-any.whl size=5719 sha256=57f3f6589b7ececa7df9145065206762bfda10dee67564fe702e8b2a4be42c57\n",
            "  Stored in directory: /root/.cache/pip/wheels/78/55/c8/dc61e772445a566b7608a476d151e9dcaf4e092b01b0c4bc3c\n",
            "  Building wheel for docplex (setup.py) ... \u001b[?25l\u001b[?25hdone\n",
            "  Created wheel for docplex: filename=docplex-2.22.213-py3-none-any.whl size=696881 sha256=844cbad89ced18b07a168c0dc661274b9234111cde1151e1c73b7de6a8fac870\n",
            "  Stored in directory: /root/.cache/pip/wheels/90/69/6b/1375c68a5b7ff94c40263b151c86f58bd72200bf0c465b5ba3\n",
            "  Building wheel for python-constraint (setup.py) ... \u001b[?25l\u001b[?25hdone\n",
            "  Created wheel for python-constraint: filename=python_constraint-1.4.0-py2.py3-none-any.whl size=24081 sha256=5f1cd58c8425dcfd14a2616a9a1d038594f9bc749413af6e23ffd9d27fa58b82\n",
            "  Stored in directory: /root/.cache/pip/wheels/07/27/db/1222c80eb1e431f3d2199c12569cb1cac60f562a451fe30479\n",
            "Successfully built qiskit dlx docplex python-constraint\n",
            "Installing collected packages: tweedledum, symengine, retworkx, python-constraint, ply, fastjsonschema, qiskit-terra, ntlm-auth, lxml, inflection, cryptography, yfinance, websocket-client, requests-ntlm, quandl, qiskit-ignis, docplex, dlx, qiskit-ibmq-provider, qiskit-aqua, qiskit-aer, qiskit\n",
            "  Attempting uninstall: lxml\n",
            "    Found existing installation: lxml 4.2.6\n",
            "    Uninstalling lxml-4.2.6:\n",
            "      Successfully uninstalled lxml-4.2.6\n",
            "Successfully installed cryptography-35.0.0 dlx-1.0.4 docplex-2.22.213 fastjsonschema-2.15.1 inflection-0.5.1 lxml-4.6.4 ntlm-auth-1.5.0 ply-3.11 python-constraint-1.4.0 qiskit-0.32.0 qiskit-aer-0.9.1 qiskit-aqua-0.9.5 qiskit-ibmq-provider-0.18.0 qiskit-ignis-0.6.0 qiskit-terra-0.18.3 quandl-3.7.0 requests-ntlm-1.1.0 retworkx-0.10.2 symengine-0.8.1 tweedledum-1.1.1 websocket-client-1.2.1 yfinance-0.1.66\n",
            "Collecting biopandas\n",
            "  Downloading biopandas-0.2.9-py2.py3-none-any.whl (264 kB)\n",
            "\u001b[K     |████████████████████████████████| 264 kB 6.8 MB/s \n",
            "\u001b[?25hRequirement already satisfied: numpy>=1.16.2 in /usr/local/lib/python3.7/dist-packages (from biopandas) (1.19.5)\n",
            "Requirement already satisfied: setuptools in /usr/local/lib/python3.7/dist-packages (from biopandas) (57.4.0)\n",
            "Requirement already satisfied: pandas>=0.24.2 in /usr/local/lib/python3.7/dist-packages (from biopandas) (1.1.5)\n",
            "Requirement already satisfied: python-dateutil>=2.7.3 in /usr/local/lib/python3.7/dist-packages (from pandas>=0.24.2->biopandas) (2.8.2)\n",
            "Requirement already satisfied: pytz>=2017.2 in /usr/local/lib/python3.7/dist-packages (from pandas>=0.24.2->biopandas) (2018.9)\n",
            "Requirement already satisfied: six>=1.5 in /usr/local/lib/python3.7/dist-packages (from python-dateutil>=2.7.3->pandas>=0.24.2->biopandas) (1.15.0)\n",
            "Installing collected packages: biopandas\n",
            "Successfully installed biopandas-0.2.9\n",
            "Collecting proteingraph\n",
            "  Downloading proteingraph-0.3.0-py3-none-any.whl (17 kB)\n",
            "Installing collected packages: proteingraph\n",
            "Successfully installed proteingraph-0.3.0\n",
            "Collecting qiskit-optimization\n",
            "  Downloading qiskit_optimization-0.2.3-py3-none-any.whl (144 kB)\n",
            "\u001b[K     |████████████████████████████████| 144 kB 7.7 MB/s \n",
            "\u001b[?25hCollecting networkx<2.6,>=2.2\n",
            "  Downloading networkx-2.5.1-py3-none-any.whl (1.6 MB)\n",
            "\u001b[K     |████████████████████████████████| 1.6 MB 56.4 MB/s \n",
            "\u001b[?25hRequirement already satisfied: scipy>=1.4 in /usr/local/lib/python3.7/dist-packages (from qiskit-optimization) (1.4.1)\n",
            "Requirement already satisfied: docplex>=2.21.207 in /usr/local/lib/python3.7/dist-packages (from qiskit-optimization) (2.22.213)\n",
            "Requirement already satisfied: qiskit-terra>=0.17.0 in /usr/local/lib/python3.7/dist-packages (from qiskit-optimization) (0.18.3)\n",
            "Requirement already satisfied: setuptools>=40.1.0 in /usr/local/lib/python3.7/dist-packages (from qiskit-optimization) (57.4.0)\n",
            "Requirement already satisfied: numpy>=1.17 in /usr/local/lib/python3.7/dist-packages (from qiskit-optimization) (1.19.5)\n",
            "Requirement already satisfied: six in /usr/local/lib/python3.7/dist-packages (from docplex>=2.21.207->qiskit-optimization) (1.15.0)\n",
            "Requirement already satisfied: decorator<5,>=4.3 in /usr/local/lib/python3.7/dist-packages (from networkx<2.6,>=2.2->qiskit-optimization) (4.4.2)\n",
            "Requirement already satisfied: tweedledum<2.0,>=1.1 in /usr/local/lib/python3.7/dist-packages (from qiskit-terra>=0.17.0->qiskit-optimization) (1.1.1)\n",
            "Requirement already satisfied: ply>=3.10 in /usr/local/lib/python3.7/dist-packages (from qiskit-terra>=0.17.0->qiskit-optimization) (3.11)\n",
            "Requirement already satisfied: jsonschema>=2.6 in /usr/local/lib/python3.7/dist-packages (from qiskit-terra>=0.17.0->qiskit-optimization) (2.6.0)\n",
            "Requirement already satisfied: python-dateutil>=2.8.0 in /usr/local/lib/python3.7/dist-packages (from qiskit-terra>=0.17.0->qiskit-optimization) (2.8.2)\n",
            "Requirement already satisfied: psutil>=5 in /usr/local/lib/python3.7/dist-packages (from qiskit-terra>=0.17.0->qiskit-optimization) (5.4.8)\n",
            "Requirement already satisfied: sympy>=1.3 in /usr/local/lib/python3.7/dist-packages (from qiskit-terra>=0.17.0->qiskit-optimization) (1.7.1)\n",
            "Requirement already satisfied: fastjsonschema>=2.10 in /usr/local/lib/python3.7/dist-packages (from qiskit-terra>=0.17.0->qiskit-optimization) (2.15.1)\n",
            "Requirement already satisfied: symengine>0.7 in /usr/local/lib/python3.7/dist-packages (from qiskit-terra>=0.17.0->qiskit-optimization) (0.8.1)\n",
            "Requirement already satisfied: dill>=0.3 in /usr/local/lib/python3.7/dist-packages (from qiskit-terra>=0.17.0->qiskit-optimization) (0.3.4)\n",
            "Requirement already satisfied: python-constraint>=1.4 in /usr/local/lib/python3.7/dist-packages (from qiskit-terra>=0.17.0->qiskit-optimization) (1.4.0)\n",
            "Requirement already satisfied: retworkx>=0.9.0 in /usr/local/lib/python3.7/dist-packages (from qiskit-terra>=0.17.0->qiskit-optimization) (0.10.2)\n",
            "Requirement already satisfied: mpmath>=0.19 in /usr/local/lib/python3.7/dist-packages (from sympy>=1.3->qiskit-terra>=0.17.0->qiskit-optimization) (1.2.1)\n",
            "Installing collected packages: networkx, qiskit-optimization\n",
            "  Attempting uninstall: networkx\n",
            "    Found existing installation: networkx 2.6.3\n",
            "    Uninstalling networkx-2.6.3:\n",
            "      Successfully uninstalled networkx-2.6.3\n",
            "\u001b[31mERROR: pip's dependency resolver does not currently take into account all the packages that are installed. This behaviour is the source of the following dependency conflicts.\n",
            "albumentations 0.1.12 requires imgaug<0.2.7,>=0.2.5, but you have imgaug 0.2.9 which is incompatible.\u001b[0m\n",
            "Successfully installed networkx-2.5.1 qiskit-optimization-0.2.3\n",
            "Collecting biopython\n",
            "  Downloading biopython-1.79-cp37-cp37m-manylinux_2_5_x86_64.manylinux1_x86_64.whl (2.3 MB)\n",
            "\u001b[K     |████████████████████████████████| 2.3 MB 9.1 MB/s \n",
            "\u001b[?25hRequirement already satisfied: numpy in /usr/local/lib/python3.7/dist-packages (from biopython) (1.19.5)\n",
            "Installing collected packages: biopython\n",
            "Successfully installed biopython-1.79\n"
          ]
        }
      ]
    },
    {
      "cell_type": "code",
      "metadata": {
        "colab": {
          "base_uri": "https://localhost:8080/",
          "height": 35
        },
        "id": "qQoC5m_qCMir",
        "outputId": "765f8d63-80ca-4c3d-de47-edd2314848bb"
      },
      "source": [
        "import qiskit\n",
        "qiskit.__version__"
      ],
      "execution_count": 2,
      "outputs": [
        {
          "output_type": "execute_result",
          "data": {
            "application/vnd.google.colaboratory.intrinsic+json": {
              "type": "string"
            },
            "text/plain": [
              "'0.18.3'"
            ]
          },
          "metadata": {},
          "execution_count": 2
        }
      ]
    },
    {
      "cell_type": "markdown",
      "metadata": {
        "id": "nsX10NQN87V2"
      },
      "source": [
        "Importing the libraries needed"
      ]
    },
    {
      "cell_type": "code",
      "metadata": {
        "colab": {
          "base_uri": "https://localhost:8080/"
        },
        "id": "LXSBQh2vOUat",
        "outputId": "4e101a03-c2b7-4b8b-acf2-34f9bb3c9835"
      },
      "source": [
        "import networkx as nx\n",
        "import numpy as np\n",
        "import matplotlib.pyplot as plt\n",
        "import matplotlib.axes as axes\n",
        "import plotly.graph_objects as go\n",
        "import matplotlib as mpl\n",
        "import pandas as pd\n",
        "from typing import List, Callable\n",
        "from biopandas.pdb import PandasPdb\n",
        "\n",
        "from qiskit import BasicAer\n",
        "from qiskit.circuit.library import TwoLocal\n",
        "from qiskit.algorithms import QAOA, NumPyMinimumEigensolver\n",
        "from qiskit.circuit import Parameter, ParameterVector\n",
        "from qiskit.algorithms.optimizers import SPSA ,COBYLA, SLSQP, ADAM\n",
        "from qiskit.optimization.applications.ising import tsp\n",
        "from qiskit.aqua import QuantumInstance\n",
        "from qiskit_optimization import QuadraticProgram\n",
        "from qiskit_optimization.algorithms import MinimumEigenOptimizer\n",
        "from qiskit.algorithms import VQE, NumPyMinimumEigensolver\n",
        "from qiskit.utils import algorithm_globals, QuantumInstance\n",
        "\n",
        "from qiskit import QuantumRegister, ClassicalRegister, QuantumCircuit, transpile, Aer, IBMQ\n",
        "from qiskit.tools.jupyter import *\n",
        "from qiskit.visualization import *\n",
        "from qiskit.providers.aer import QasmSimulator\n",
        "import qiskit as qk\n",
        "# Loading your IBM Quantum account(s)\n",
        "qk.IBMQ.save_account('') #Replace the text my_token for your own token\n",
        "provider = IBMQ.load_account()\n",
        "\n",
        "from networkx.drawing.nx_pydot import write_dot\n",
        "from collections import defaultdict\n",
        "from functools import partial\n",
        "from itertools import combinations\n",
        "from pathlib import Path\n",
        "import xarray as xr\n",
        "\n",
        "from scipy.spatial import Delaunay\n",
        "from scipy.spatial.distance import euclidean, pdist, rogerstanimoto, squareform\n",
        "from proteingraph.resi_atoms import AA_RING_ATOMS,AROMATIC_RESIS,BACKBONE_ATOMS,BOND_TYPES\n",
        "from proteingraph.resi_atoms import CATION_PI_RESIS,CATION_RESIS,DISULFIDE_ATOMS\n",
        "from proteingraph.resi_atoms import DISULFIDE_RESIS, HYDROPHOBIC_RESIS,IONIC_RESIS\n",
        "from proteingraph.resi_atoms import ISOELECTRIC_POINTS_STD, MOLECULAR_WEIGHTS_STD, NEG_AA\n",
        "from proteingraph.resi_atoms import PI_RESIS, POS_AA, RESI_NAMES\n",
        "\n",
        "from proteingraph.pin import compute_rgroup_dataframe\n",
        "from proteingraph.pin import convert_all_sets_to_lists\n",
        "from proteingraph.pin import pdb2df\n",
        "from proteingraph.pin import compute_chain_pos_aa_mapping\n",
        "from proteingraph.pin import filter_dataframe\n",
        "from proteingraph.pin import add_aromatic_interactions\n",
        "from proteingraph.pin import add_aromatic_sulphur_interactions\n",
        "from proteingraph.pin import add_cation_pi_interactions\n",
        "from proteingraph.pin import get_interacting_atoms\n",
        "from proteingraph.pin import node_coords\n",
        "from proteingraph.pin import add_interacting_resis\n",
        "\n",
        "\n",
        "from Bio.PDB.vectors import rotaxis2m\n",
        "from Bio.PDB.vectors import Vector\n",
        "from qiskit_optimization.applications import Maxcut, Tsp\n"
      ],
      "execution_count": 22,
      "outputs": [
        {
          "output_type": "stream",
          "name": "stderr",
          "text": [
            "configrc.store_credentials:WARNING:2021-11-18 04:13:40,778: Credentials already present. Set overwrite=True to overwrite.\n",
            "ibmqfactory.load_account:WARNING:2021-11-18 04:13:41,363: Credentials are already in use. The existing account in the session will be replaced.\n"
          ]
        }
      ]
    },
    {
      "cell_type": "markdown",
      "metadata": {
        "id": "rGAAd16E9D0v"
      },
      "source": [
        "W can use proteingraph methods to map the protein pdb file into a network interactios (using inside bopandas data structure), once we load the file."
      ]
    },
    {
      "cell_type": "markdown",
      "metadata": {
        "id": "dJKeGBaXAYPF"
      },
      "source": [
        "A function of energy will be used to cluster the interactions between the amino acids. In this case, a chemical graph can represent these interactions. The edges of this graph are weighted using a energy function:\n",
        "\n",
        "\\begin{equation}\n",
        " E_{total \\ potential}=E_{structure}+E_{bonding}\n",
        "\\end{equation}\n",
        "\n",
        "where $E_{structure}$ corresponds to torsion angles formed by the torsion angles and $E_{bonding}$ is defined as (A newforce field (ECEPP-05) for peptides, proteins, and organicmolecules, 2006):"
      ]
    },
    {
      "cell_type": "markdown",
      "metadata": {
        "id": "mfLWAut5WuCq"
      },
      "source": [
        "\\begin{equation}\n",
        " E_{bonding}= \\sum_{i=0}^{n} \\sum_{j>i}^{n} \\left(- \\frac{ A_{ij}}{r_{ij}^{6}}+  \\frac{B_{ij} e^{-C_{ij} r_{ij} } }{k_{1}} \\right) + \\sum_{i=0}^{n} \\sum_{j>i}^{n} \\frac{332 q_{i}q_{j}}{k_{2} \\epsilon  r_{ij}}\n",
        "\\end{equation}\n",
        "\n",
        "witn $n$ number of atoms, $A,B,C$ the non-bonded parameters, $r_{ij}$ the distances between atom $i$ and $j$ respectively; $k_{1}$ and $k_{2}$ are scaled factors, $q_{i}$ and $q_{j}$ are the point atomic charges and $\\epsilon$ is the dielectric constant. "
      ]
    },
    {
      "cell_type": "markdown",
      "metadata": {
        "id": "B8zOEcaNFaJx"
      },
      "source": [
        "The next methods are modified from proteingraph 0.3.0 (MIT License (MIT), Eric J. Ma*) open-source package, and are used to assign the chemical bonds between amino acids\n",
        "\n",
        "\n",
        "* https://pypi.org/project/proteingraph/"
      ]
    },
    {
      "cell_type": "code",
      "metadata": {
        "id": "7J7pe0kGbxLw"
      },
      "source": [
        "def add_hydrogen_bond_interactions(G, rgroup_df):\n",
        "    \"\"\"Add all hydrogen-bond interactions.\"\"\"\n",
        "    # For these atoms, find those that are within 3.5A of one another.\n",
        "    HBOND_ATOMS = [\"ND\",  # histidine and asparagine\n",
        "        \"NE\",  # glutamate, tryptophan, arginine, histidine\n",
        "        \"NH\",  # arginine\n",
        "        \"NZ\",  # lysine\n",
        "        \"OD1\",\n",
        "        \"OD2\",\n",
        "        \"OE\",\n",
        "        \"OG\",\n",
        "        \"OH\",\n",
        "        \"SD\",  # cysteine\n",
        "        \"SG\",  # methionine\n",
        "        \"N\",\"O\"]\n",
        "    hbond_df = filter_dataframe(rgroup_df, \"atom_name\", HBOND_ATOMS, True)\n",
        "    distmat = compute_distmat(hbond_df)\n",
        "    interacting_atoms = get_interacting_atoms(3.5, distmat)\n",
        "    add_interacting_resis(G, interacting_atoms, hbond_df, [\"hbond\"])\n",
        "    # For these atoms, find those that are within 4.0A of one another.\n",
        "    HBOND_ATOMS_SULPHUR = [\"SD\", \"SG\"]\n",
        "    hbond_df = filter_dataframe(\n",
        "        rgroup_df, \"atom_name\", HBOND_ATOMS_SULPHUR, True)\n",
        "    distmat = compute_distmat(hbond_df)\n",
        "    interacting_atoms = get_interacting_atoms(4.0, distmat)\n",
        "    add_interacting_resis(G, interacting_atoms, hbond_df, [\"hbond\"])\n",
        "\n",
        "def add_disulfide_interactions(G, rgroup_df):\n",
        "    \"\"\"\n",
        "    Find all disulfide interactions between CYS residues.\n",
        "    Criteria: sulfur atom pairs are within 2.2A of each other.\n",
        "    \"\"\"\n",
        "    disulfide_df = filter_dataframe(\n",
        "        rgroup_df, \"residue_name\", DISULFIDE_RESIS, True)\n",
        "    disulfide_df = filter_dataframe(\n",
        "        disulfide_df, \"atom_name\", DISULFIDE_ATOMS, True)\n",
        "    distmat = compute_distmat(disulfide_df)\n",
        "   # print(\"head disulfide\")\n",
        "   # print(disulfide_df.columns)\n",
        "    if disulfide_df.empty:\n",
        "     print(\"DataFrame is empty!\")\n",
        "    else:\n",
        "     interacting_atoms = get_interacting_atoms(2.2, distmat)\n",
        "     add_interacting_resis(G, interacting_atoms, disulfide_df, [\"disulfide\"])\n",
        "\n",
        "\n",
        "def add_ionic_interactions(G, rgroup_df):\n",
        "    \"\"\"\n",
        "    Find all ionic interactions.\n",
        "    Criteria: ARG, LYS, HIS, ASP, and GLU residues are within 6A.\n",
        "    \"\"\"\n",
        "    ionic_df = filter_dataframe(rgroup_df, \"residue_name\", IONIC_RESIS, True)\n",
        "    if ionic_df.empty:\n",
        "     print(\"DataFrame is empty!\")\n",
        "    else:\n",
        "     distmat = compute_distmat(ionic_df)\n",
        "     interacting_atoms = get_interacting_atoms(6, distmat)\n",
        "     add_interacting_resis(G, interacting_atoms, ionic_df, [\"ionic\"])\n",
        "    # Check that the interacting residues are of opposite charges\n",
        "     for r1, r2 in get_edges_by_bond_type(G, \"ionic\"):\n",
        "         condition1 = (G.nodes[r1][\"residue_name\"] in POS_AA\n",
        "             and G.nodes[r2][\"residue_name\"] in NEG_AA)\n",
        "         condition2 = (G.nodes[r2][\"residue_name\"] in POS_AA\n",
        "             and G.nodes[r1][\"residue_name\"] in NEG_AA)\n",
        "         is_ionic = condition1 or condition2\n",
        "         if not is_ionic:\n",
        "             G.edges[r1, r2][\"kind\"].remove(\"ionic\")\n",
        "             if len(G.edges[r1, r2][\"kind\"]) == 0:\n",
        "                 G.remove_edge(r1, r2)\n",
        "\n",
        "def compute_distmat(pdb_df):\n",
        "    \"\"\"\n",
        "    Compute pairwise euclidean distances between every atom.\n",
        "    Design choice: passed in a DataFrame to enable easier testing on\n",
        "    dummy data.\n",
        "    \"\"\"\n",
        "    pp=squareform(pdist(pdb_df[[\"x_coord\",\"y_coord\", \"z_coord\"]]))\n",
        "    print(\"y pp es\")\n",
        "    print(pp)\n",
        "    eucl_dists = pd.DataFrame(pp)\n",
        "    if pdb_df.empty:\n",
        "     print(\"DataFrame is empty!\")\n",
        "    else:\n",
        "     eucl_dists.index = pdb_df.index\n",
        "     eucl_dists.columns = pdb_df.index\n",
        "    return eucl_dists"
      ],
      "execution_count": 4,
      "outputs": []
    },
    {
      "cell_type": "code",
      "metadata": {
        "id": "fL2Yst7ubzAs"
      },
      "source": [
        "def add_hydrophobic_interactions(G, rgroup_df):\n",
        "    \"\"\"\n",
        "    Find all hydrophobic interactions.\n",
        "    Performs searches between the following residues:\n",
        "    ALA, VAL, LEU, ILE, MET, PHE, TRP, PRO, TYR\n",
        "    Criteria: R-group residues are within 5A distance.\n",
        "    \"\"\"\n",
        "    hydrophobics_df = filter_dataframe(rgroup_df,\n",
        "    \"residue_name\", HYDROPHOBIC_RESIS, True)\n",
        "    distmat = compute_distmat(hydrophobics_df)\n",
        "    interacting_atoms = get_interacting_atoms(5, distmat)\n",
        "    print(\"interacting hidro\")\n",
        "    add_interacting_resis(G, interacting_atoms,\n",
        "    hydrophobics_df, [\"hydrophobic\"])\n",
        "\n",
        "def compute_interaction_graph(pdb_df, chain_pos_aa, edge_funcs=None):\n",
        "    \"\"\"\n",
        "    Compute the interaction graph.\n",
        "    ## Parameters:\n",
        "    - `pdb_df`: A pandas DataFrame.\n",
        "        Should be the result of calling `pdb2df`.\n",
        "    - `chain_pos_aa`: A nested dictionary mapping chain -> pos -> aa.\n",
        "        Should be the result of calling `compute_chain_pos_aa_mapping`.\n",
        "    - `edge_funcs`: Arbitrary functions which take in only a graph `G`,\n",
        "        and uses `add_edge` to add edges to the graph.\n",
        "    \"\"\"\n",
        "    G = nx.Graph()\n",
        "    for g, d in pdb_df.query(\"record_name == 'ATOM'\").groupby(\n",
        "        [\"node_id\", \"chain_id\", \"residue_number\", \"residue_name\"]):\n",
        "        node_id, chain_id, residue_number, residue_name = g\n",
        "        x_coord = d.query(\"atom_name == 'CA'\")[\"x_coord\"].values[0]\n",
        "        y_coord = d.query(\"atom_name == 'CA'\")[\"y_coord\"].values[0]\n",
        "        z_coord = d.query(\"atom_name == 'CA'\")[\"z_coord\"].values[0]\n",
        "        G.add_node(node_id, chain_id=chain_id,\n",
        "            residue_number=residue_number,\n",
        "            residue_name=residue_name,\n",
        "            x_coord=x_coord,\n",
        "            y_coord=y_coord,\n",
        "            z_coord=z_coord,\n",
        "            features=None)\n",
        "    # Add in edges for amino acids that are adjacent in the linear amino\n",
        "    # acid sequence.\n",
        "    nx.draw_shell(G, with_labels=True, font_weight='bold')\n",
        "    plt.show()\n",
        "    for n, d in G.nodes(data=True):\n",
        "        chain = d[\"chain_id\"]\n",
        "        pos = d[\"residue_number\"]\n",
        "        aa = d[\"residue_name\"]\n",
        "        if (pos-1) in chain_pos_aa[chain].keys():\n",
        "            prev_aa = chain_pos_aa[chain][pos - 1]\n",
        "            print(\"nodo previo\")\n",
        "            print(prev_aa)\n",
        "            prev_node = f\"{chain}{pos-1}{prev_aa}\"\n",
        "            print(\"quien es prev node\")\n",
        "            print(prev_node)\n",
        "            if aa in RESI_NAMES and prev_aa in RESI_NAMES:\n",
        "                G.add_edge(n, prev_node, kind={\"backbone\"})\n",
        "        if (pos+1) in chain_pos_aa[chain].keys():\n",
        "            print(\"pos posterior\")\n",
        "            print(pos+1)\n",
        "            next_aa = chain_pos_aa[chain][pos + 1]\n",
        "            next_node = f\"{chain}{pos+1}{next_aa}\"\n",
        "            print(\"nodo posterior\")\n",
        "            print(next_node)\n",
        "            if aa in RESI_NAMES and next_aa in RESI_NAMES:\n",
        "                G.add_edge(n, next_node, kind={\"backbone\"})\n",
        "\n",
        "    print(\"entro a las funciones\")\n",
        "    for func in edge_funcs:\n",
        "        func(G)\n",
        "    return G\n"
      ],
      "execution_count": 7,
      "outputs": []
    },
    {
      "cell_type": "code",
      "metadata": {
        "id": "H22qgBO3b08x"
      },
      "source": [
        "def read_pdb(path: Path):\n",
        "    \"\"\"\n",
        "    Parse PDB file into protein graph.\n",
        "    Overall function to read PDB and get back graph.\n",
        "    \"\"\"\n",
        "    pdb_df = pdb2df(path)\n",
        "    rgroup_df = compute_rgroup_dataframe(pdb_df)\n",
        "    chain_pos_aa = compute_chain_pos_aa_mapping(pdb_df)\n",
        "    edge_funcs = [\n",
        "        partial(add_hydrophobic_interactions, rgroup_df=rgroup_df),\n",
        "        partial(add_disulfide_interactions, rgroup_df=rgroup_df),\n",
        "        partial(add_hydrogen_bond_interactions, rgroup_df=rgroup_df),\n",
        "        partial(add_ionic_interactions, rgroup_df=rgroup_df),\n",
        "        partial(add_aromatic_interactions, pdb_df=pdb_df),\n",
        "        partial(add_aromatic_sulphur_interactions, rgroup_df=rgroup_df),\n",
        "        partial(add_cation_pi_interactions, rgroup_df=rgroup_df),]\n",
        "    print(\"despues de partial\")\n",
        "    G = compute_interaction_graph(pdb_df, chain_pos_aa, edge_funcs=edge_funcs)\n",
        "    convert_all_sets_to_lists(G)\n",
        "    return G"
      ],
      "execution_count": 8,
      "outputs": []
    },
    {
      "cell_type": "markdown",
      "metadata": {
        "id": "HKUmGDsIFgnV"
      },
      "source": [
        "First we get the node map that represent the amino acids as each node, then the edges are placed with the previous functions."
      ]
    },
    {
      "cell_type": "code",
      "metadata": {
        "colab": {
          "base_uri": "https://localhost:8080/",
          "height": 1000
        },
        "id": "OdjXjmbeb3cI",
        "outputId": "5eaaa3b6-be5b-45fb-f682-b18fa9d178af"
      },
      "source": [
        "p = read_pdb('1plxA.pdb')\n",
        "nx.draw_shell(p, with_labels=True, font_weight='bold')\n",
        "plt.figure(figsize=(12,12))\n",
        "plt.show()"
      ],
      "execution_count": 9,
      "outputs": [
        {
          "output_type": "stream",
          "name": "stdout",
          "text": [
            "despues de partial\n"
          ]
        },
        {
          "output_type": "display_data",
          "data": {
            "image/png": "[encoded data removed]",
            "text/plain": [
              "<Figure size 432x288 with 1 Axes>"
            ]
          },
          "metadata": {}
        },
        {
          "output_type": "stream",
          "name": "stdout",
          "text": [
            "pos posterior\n",
            "2\n",
            "nodo posterior\n",
            "A2GLY\n",
            "nodo previo\n",
            "TYR\n",
            "quien es prev node\n",
            "A1TYR\n",
            "pos posterior\n",
            "3\n",
            "nodo posterior\n",
            "A3GLY\n",
            "nodo previo\n",
            "GLY\n",
            "quien es prev node\n",
            "A2GLY\n",
            "pos posterior\n",
            "4\n",
            "nodo posterior\n",
            "A4PHE\n",
            "nodo previo\n",
            "GLY\n",
            "quien es prev node\n",
            "A3GLY\n",
            "pos posterior\n",
            "5\n",
            "nodo posterior\n",
            "A5MET\n",
            "nodo previo\n",
            "PHE\n",
            "quien es prev node\n",
            "A4PHE\n",
            "entro a las funciones\n",
            "y pp es\n",
            "[[0.         1.51267743 2.5270922  ... 5.5549     4.49956231 5.92190805]\n",
            " [1.51267743 0.         1.38950711 ... 5.34745799 4.09821303 5.75185727]\n",
            " [2.5270922  1.38950711 0.         ... 4.23877164 3.04330577 4.79046637]\n",
            " ...\n",
            " [5.5549     5.34745799 4.23877164 ... 0.         1.7638903  1.76315541]\n",
            " [4.49956231 4.09821303 3.04330577 ... 1.7638903  0.         1.76441662]\n",
            " [5.92190805 5.75185727 4.79046637 ... 1.76315541 1.76441662 0.        ]]\n",
            "interacting hidro\n",
            "y pp es\n",
            "[[0.]]\n",
            "DataFrame is empty!\n",
            "DataFrame is empty!\n",
            "y pp es\n",
            "[[0.         5.98978038]\n",
            " [5.98978038 0.        ]]\n",
            "y pp es\n",
            "[[0.]]\n",
            "DataFrame is empty!\n"
          ]
        },
        {
          "output_type": "display_data",
          "data": {
            "image/png": "[encoded data removed]",
            "text/plain": [
              "<Figure size 432x288 with 1 Axes>"
            ]
          },
          "metadata": {}
        },
        {
          "output_type": "display_data",
          "data": {
            "text/plain": [
              "<Figure size 864x864 with 0 Axes>"
            ]
          },
          "metadata": {}
        }
      ]
    },
    {
      "cell_type": "markdown",
      "metadata": {
        "id": "eyo5pebiGr53"
      },
      "source": [
        "Then the weights are placed:"
      ]
    },
    {
      "cell_type": "code",
      "metadata": {
        "colab": {
          "base_uri": "https://localhost:8080/",
          "height": 349
        },
        "id": "mk9Sm6l5uARI",
        "outputId": "a2b241c8-bb7b-4640-aa87-fcb2781da52a"
      },
      "source": [
        "\n",
        "def draw_graph(T, colors, pos):\n",
        "    default_axes = plt.axes(frameon=True)\n",
        "    nx.draw_networkx(T, node_color=colors, node_size=600, alpha=.8, ax=default_axes, pos=pos)\n",
        "    edge_labels = nx.get_edge_attributes(T, 'weight')\n",
        "    nx.draw_networkx_edge_labels(T, pos=pos, edge_labels=edge_labels)\n",
        "\n",
        "T = nx.Graph()\n",
        "T.add_nodes_from(np.arange(0,5,1))\n",
        "n = 5\n",
        "num_qubits = n ** 2\n",
        "ins = tsp.random_tsp(n, seed=123)\n",
        "\n",
        "#edges_with_weight =[\n",
        " #                   ('A1TYR', 'A2GLY' ,23),\n",
        "  #                  ('A1TYR' ,'A5MET',22),\n",
        "   #                 ('A1TYR' ,'A4PHE',18),\n",
        "    #                ('A2GLY' ,'A3GLY', 12),\n",
        "     #               ('A3GLY' ,'A4PHE',15),\n",
        "      #              ('A4PHE' ,'A5MET',10)]\n",
        "\n",
        "edges_with_weight =[(0, 1 ,10),\n",
        "                    (0 ,4,5),\n",
        "                    (0 ,3,14),\n",
        "                    (1 ,2, 10),\n",
        "                    (2 ,3,10),\n",
        "                    (3 ,4,15)]\n",
        "                    \n",
        "T.add_weighted_edges_from(edges_with_weight)\n",
        "\n",
        "colors = ['r' for node in T.nodes()]\n",
        "\n",
        "weight_matrix = nx.adjacency_matrix(T).toarray()\n",
        "size = weight_matrix.shape[0]\n",
        "print('distance\\n', weight_matrix)\n",
        "\n",
        "pos = {k: v for k, v in enumerate(ins.coord)}\n",
        "draw_graph(T, colors, pos)"
      ],
      "execution_count": 26,
      "outputs": [
        {
          "output_type": "stream",
          "name": "stdout",
          "text": [
            "distance\n",
            " [[ 0 10  0 14  5]\n",
            " [10  0 10  0  0]\n",
            " [ 0 10  0 10  0]\n",
            " [14  0 10  0 15]\n",
            " [ 5  0  0 15  0]]\n"
          ]
        },
        {
          "output_type": "display_data",
          "data": {
            "image/png": "[encoded data removed]",
            "text/plain": [
              "<Figure size 432x288 with 1 Axes>"
            ]
          },
          "metadata": {}
        }
      ]
    },
    {
      "cell_type": "markdown",
      "metadata": {
        "id": "3GaPswyIGzP4"
      },
      "source": [
        "Some extra-packages are impported"
      ]
    },
    {
      "cell_type": "markdown",
      "metadata": {
        "id": "cqiDW6ykopx4"
      },
      "source": [
        "## Graph-reduction\n",
        "\n",
        "Using the structure of the graph, we reduce the number of nodes to four in roder to get faster solution.\n",
        "\n"
      ]
    },
    {
      "cell_type": "code",
      "metadata": {
        "colab": {
          "base_uri": "https://localhost:8080/",
          "height": 332
        },
        "id": "LGh1GkNA6cIU",
        "outputId": "019c0fc1-b6e3-441e-ab57-f5cff57b9e00"
      },
      "source": [
        "def draw_graph(T, colors, pos):\n",
        "    default_axes = plt.axes(frameon=True)\n",
        "    nx.draw_networkx(T, node_color=colors, node_size=600, alpha=.8, ax=default_axes, pos=pos)\n",
        "    edge_labels = nx.get_edge_attributes(T, 'weight')\n",
        "    nx.draw_networkx_edge_labels(T, pos=pos, edge_labels=edge_labels)\n",
        "\n",
        "O = nx.Graph()\n",
        "O.add_nodes_from(np.arange(0,4,1))\n",
        "\n",
        "\n",
        "n = 4\n",
        "tsp = Tsp.create_random_instance(n, seed=123)\n",
        "num_qubits = n ** 2\n",
        "# ins = tsp.random_tsp(n, seed=123)\n",
        "\n",
        "\n",
        "edges_with_weight =[(0, 1 ,20),\n",
        "                    (0 ,2,14),\n",
        "                    (0 ,3, 5),\n",
        "                    (1 ,2,20),\n",
        "                    (2 ,3,15)]\n",
        "\n",
        "#G.add_weighted_edges_from([(1,2,1),(1,4,1),(3,4,1),(4,2,1)])                    \n",
        "O.add_weighted_edges_from(edges_with_weight)\n",
        "\n",
        "colors = ['r' for node in O.nodes()]\n",
        "\n",
        "weight_matrix = nx.adjacency_matrix(O).toarray()\n",
        "size = weight_matrix.shape[0]\n",
        "print('distance\\n', weight_matrix)\n",
        "\n",
        "pos = {k: v for k, v in enumerate(ins.coord)}\n",
        "draw_graph(O, colors, pos)"
      ],
      "execution_count": 27,
      "outputs": [
        {
          "output_type": "stream",
          "name": "stdout",
          "text": [
            "distance\n",
            " [[ 0 20 14  5]\n",
            " [20  0 20  0]\n",
            " [14 20  0 15]\n",
            " [ 5  0 15  0]]\n"
          ]
        },
        {
          "output_type": "display_data",
          "data": {
            "image/png": "[encoded data removed]",
            "text/plain": [
              "<Figure size 432x288 with 1 Axes>"
            ]
          },
          "metadata": {}
        }
      ]
    },
    {
      "cell_type": "markdown",
      "metadata": {
        "id": "rbqy3NPvkyO4"
      },
      "source": [
        "# Representation of the protein folding in a weight graph"
      ]
    },
    {
      "cell_type": "markdown",
      "metadata": {
        "id": "bvW_KAiVGZdi"
      },
      "source": [
        "The final four-node graph represents the clusterized biochemical-interaction network, where each node depicts an amino acid group within the whole protein structure. Each edge weight summarizes the assessment of the chemical interaction function between these groups od amino acids (nodes)."
      ]
    },
    {
      "cell_type": "markdown",
      "metadata": {
        "id": "W8wdxudck8Q7"
      },
      "source": [
        "# Brute force approach"
      ]
    },
    {
      "cell_type": "code",
      "metadata": {
        "colab": {
          "base_uri": "https://localhost:8080/",
          "height": 282
        },
        "id": "_vFhdhwlhXpp",
        "outputId": "73573895-f090-4ee8-aba4-e2ebb7f99164"
      },
      "source": [
        "from itertools import permutations\n",
        "\n",
        "def brute_force_pf(w, N):\n",
        "    \"\"\"Solves the best weight proteing folding path from weight and Nodes in the graph.\n",
        "    Args:\n",
        "        w: Weight matrix from the Graph.\n",
        "        N: Number of nodes from the Graph.\n",
        "    Returns:\n",
        "        last_best_distance, Weight of totqal protein folding\n",
        "    \"\"\"\n",
        "    a=list(permutations(range(1,N)))\n",
        "    last_best_distance = 0\n",
        "    for i in a:\n",
        "        distance = 0\n",
        "        pre_j = 0\n",
        "        for j in i:\n",
        "            distance = distance + w[j,pre_j]\n",
        "            pre_j = j\n",
        "        distance = distance + w[pre_j,0]\n",
        "        order = (0,) + i\n",
        "        if distance > last_best_distance:\n",
        "            best_order = order\n",
        "            last_best_distance = distance\n",
        "            print('order = ' + str(order) + ' Weight of protein folding = ' + str(distance))\n",
        "    return last_best_distance, best_order\n",
        "\n",
        "best_distance, best_order = brute_force_pf(weight_matrix, size)\n",
        "print('Best order from brute force = ' + str(best_order) + ' with total weight = ' + str(best_distance))\n",
        "\n",
        "def draw_pf_solution(G, order, colors, pos):\n",
        "    G2 = nx.DiGraph()\n",
        "    G2.add_nodes_from(G)\n",
        "    n = len(order)\n",
        "    for i in range(n):\n",
        "        j = (i + 1) % n\n",
        "        G2.add_edge(order[i], order[j], weight=G[order[i]][order[j]]['weight'])\n",
        "    default_axes = plt.axes(frameon=True)\n",
        "    nx.draw_networkx(G2, node_color=colors, edge_color='b', node_size=600, alpha=.8, ax=default_axes, pos=pos)\n",
        "    edge_labels = nx.get_edge_attributes(G2, 'weight')\n",
        "    nx.draw_networkx_edge_labels(G2, pos, font_color='b', edge_labels=edge_labels)\n",
        "\n",
        "draw_pf_solution(O, best_order, colors, pos)"
      ],
      "execution_count": 12,
      "outputs": [
        {
          "output_type": "stream",
          "name": "stdout",
          "text": [
            "order = (0, 1, 2, 3) Weight of protein folding = 60\n",
            "Best order from brute force = (0, 1, 2, 3) with total weight = 60\n"
          ]
        },
        {
          "output_type": "display_data",
          "data": {
            "image/png": "[encoded data removed]",
            "text/plain": [
              "<Figure size 432x288 with 1 Axes>"
            ]
          },
          "metadata": {}
        }
      ]
    },
    {
      "cell_type": "markdown",
      "metadata": {
        "id": "idq8qMninlTu"
      },
      "source": [
        "# Protein interaction problem to QUBO (Quadratic Unconstrained Binary Optimization)"
      ]
    },
    {
      "cell_type": "markdown",
      "metadata": {
        "id": "hA2U_QN9oDW4"
      },
      "source": [
        "Base on the travelling sales man, we implement the cost function in order to solve the problem of found the most interacting amino acids withing a protein structure in functon of the weights of the final clustered graph, in this case we adequate the problem to maximize the cost function and get the best weight distance (function of protein structure).\n",
        " \n",
        "\\begin{equation}\n",
        "C(\\textbf{x})=\\sum_{i,j}w_{ij}\\sum_{p} x_{i,p}x_{j,p+1}+ A\\sum_p\\left(1- \\sum_i x_{i,p}\\right)^2+A\\sum_i\\left(1- \\sum_p x_{i,p}\\right)^2,\n",
        "\\end{equation}"
      ]
    },
    {
      "cell_type": "markdown",
      "metadata": {
        "id": "tQUQPykNpFT-"
      },
      "source": [
        "Protein folding as a Quadratic Program\n",
        "\n",
        "We can reformulate it in the standard form for quadratic programs as written below.\n",
        "$$\n",
        "\\begin{align}\n",
        "\\sum_{i,j}w_{ij}\\sum_{p} x_{i,p}x_{j,p+1} + A\\sum_p\\left(1- \\sum_i x_{i,p}\\right)^2+A\\sum_i\\left(1- \\sum_p x_{i,p}\\right)^2 &= \\sum_{i,j}\\sum_{p} x_{i,p} w_{ij} x_{j,p+1} + A\\sum_p\\left(1- \\sum_i x_{i,p}\\right)^2+A\\sum_i\\left(1- \\sum_p x_{i,p}\\right)^2  \\\\\n",
        "&= A\\sum_p\\left(1- \\sum_i x_{i,p}\\right)^2+A\\sum_i\\left(1- \\sum_p x_{i,p}\\right)^2 + \\sum_{i,j}\\sum_{p} x_{i,p} w_{ij} x_{j,p+1} \\\\\n",
        "&= c^T x + x^T Q x, \\\\\n",
        "\\end{align}\n",
        "$$\n",
        "for $Q$ and $c$ defined as follows\n",
        "$$\n",
        "Q_{ij} = W_{ij} \\qquad c_i = \\sum_{i=1}^n i.\n",
        "$$\n",
        "\n",
        "\n",
        "We obtain an optimization instance with binary variables, a quadratic objective function and without any variable constraints. A quadratic program of that form is also called a quadratic unconstrained binary optimization instance, or QUBO for short."
      ]
    },
    {
      "cell_type": "code",
      "metadata": {
        "id": "JbWAJSD9d44A",
        "colab": {
          "base_uri": "https://localhost:8080/"
        },
        "outputId": "f034212c-a93e-49cf-e3a2-8c12c758d4f5"
      },
      "source": [
        "qp = tsp.to_quadratic_program()\n",
        "\n",
        "shape = weight_matrix.shape\n",
        "size = shape[0]\n",
        "    #Build qubo matrix Q from weight matrix W\n",
        "qubo_matrix = np.zeros((size, size))\n",
        "qubo_vector = np.zeros(size)\n",
        "for i in range(size):\n",
        "  for j in range(size):\n",
        "    qubo_matrix[i, j] = weight_matrix[i, j]\n",
        "for i in range(size):\n",
        "  for j in range(size):\n",
        "    qubo_vector[i] += i\n",
        "qp.maximize(quadratic = qubo_matrix,linear = qubo_vector)#, linear = qubo_vector\n",
        "\n",
        "print(qp.export_as_lp_string())"
      ],
      "execution_count": 28,
      "outputs": [
        {
          "output_type": "stream",
          "name": "stdout",
          "text": [
            "\\ This file has been generated by DOcplex\n",
            "\\ ENCODING=ISO-8859-1\n",
            "\\Problem name: TSP\n",
            "\n",
            "Maximize\n",
            " obj: 4 x_0_1 + 8 x_0_2 + 12 x_0_3 + [ 80 x_0_0*x_0_1 + 56 x_0_0*x_0_2\n",
            "      + 20 x_0_0*x_0_3 + 80 x_0_1*x_0_2 + 60 x_0_2*x_0_3 ]/2\n",
            "Subject To\n",
            " c0: x_0_0 + x_0_1 + x_0_2 + x_0_3 = 1\n",
            " c1: x_1_0 + x_1_1 + x_1_2 + x_1_3 = 1\n",
            " c2: x_2_0 + x_2_1 + x_2_2 + x_2_3 = 1\n",
            " c3: x_3_0 + x_3_1 + x_3_2 + x_3_3 = 1\n",
            " c4: x_0_0 + x_1_0 + x_2_0 + x_3_0 = 1\n",
            " c5: x_0_1 + x_1_1 + x_2_1 + x_3_1 = 1\n",
            " c6: x_0_2 + x_1_2 + x_2_2 + x_3_2 = 1\n",
            " c7: x_0_3 + x_1_3 + x_2_3 + x_3_3 = 1\n",
            "\n",
            "Bounds\n",
            " 0 <= x_0_0 <= 1\n",
            " 0 <= x_0_1 <= 1\n",
            " 0 <= x_0_2 <= 1\n",
            " 0 <= x_0_3 <= 1\n",
            " 0 <= x_1_0 <= 1\n",
            " 0 <= x_1_1 <= 1\n",
            " 0 <= x_1_2 <= 1\n",
            " 0 <= x_1_3 <= 1\n",
            " 0 <= x_2_0 <= 1\n",
            " 0 <= x_2_1 <= 1\n",
            " 0 <= x_2_2 <= 1\n",
            " 0 <= x_2_3 <= 1\n",
            " 0 <= x_3_0 <= 1\n",
            " 0 <= x_3_1 <= 1\n",
            " 0 <= x_3_2 <= 1\n",
            " 0 <= x_3_3 <= 1\n",
            "\n",
            "Binaries\n",
            " x_0_0 x_0_1 x_0_2 x_0_3 x_1_0 x_1_1 x_1_2 x_1_3 x_2_0 x_2_1 x_2_2 x_2_3 x_3_0\n",
            " x_3_1 x_3_2 x_3_3\n",
            "End\n",
            "\n"
          ]
        }
      ]
    },
    {
      "cell_type": "markdown",
      "metadata": {
        "id": "PYxhs9FLKbtX"
      },
      "source": [
        "Qiskit provides automatic conversion from a suitableQuadraticProgramto an Insing Hamiltonian, which then allows to leverage all theMinimumEigenSolver."
      ]
    },
    {
      "cell_type": "code",
      "metadata": {
        "scrolled": false,
        "id": "0XNjEGoXd44C",
        "colab": {
          "base_uri": "https://localhost:8080/"
        },
        "outputId": "5ca83323-ca13-4895-9db8-0240eef61fe8"
      },
      "source": [
        "from qiskit_optimization.converters import QuadraticProgramToQubo\n",
        "\n",
        "qp2qubo = QuadraticProgramToQubo()\n",
        "qubo = qp2qubo.convert(qp)\n",
        "qubitOp, offset = qubo.to_ising()\n",
        "print('Offset:', offset)\n",
        "print('Ising Hamiltonian:')\n",
        "print(str(qubitOp))"
      ],
      "execution_count": 29,
      "outputs": [
        {
          "output_type": "stream",
          "name": "stdout",
          "text": [
            "Offset: 2719.0\n",
            "Ising Hamiltonian:\n",
            "-346.0 * ZIIIIIIIIIIIIIII\n",
            "- 346.0 * IZIIIIIIIIIIIIII\n",
            "+ 86.5 * ZZIIIIIIIIIIIIII\n",
            "- 346.0 * IIZIIIIIIIIIIIII\n",
            "+ 86.5 * ZIZIIIIIIIIIIIII\n",
            "+ 86.5 * IZZIIIIIIIIIIIII\n",
            "- 346.0 * IIIZIIIIIIIIIIII\n",
            "+ 86.5 * ZIIZIIIIIIIIIIII\n",
            "+ 86.5 * IZIZIIIIIIIIIIII\n",
            "+ 86.5 * IIZZIIIIIIIIIIII\n",
            "- 346.0 * IIIIZIIIIIIIIIII\n",
            "+ 86.5 * ZIIIZIIIIIIIIIII\n",
            "- 346.0 * IIIIIZIIIIIIIIII\n",
            "+ 86.5 * IZIIIZIIIIIIIIII\n",
            "+ 86.5 * IIIIZZIIIIIIIIII\n",
            "- 346.0 * IIIIIIZIIIIIIIII\n",
            "+ 86.5 * IIZIIIZIIIIIIIII\n",
            "+ 86.5 * IIIIZIZIIIIIIIII\n",
            "+ 86.5 * IIIIIZZIIIIIIIII\n",
            "- 346.0 * IIIIIIIZIIIIIIII\n",
            "+ 86.5 * IIIZIIIZIIIIIIII\n",
            "+ 86.5 * IIIIZIIZIIIIIIII\n",
            "+ 86.5 * IIIIIZIZIIIIIIII\n",
            "+ 86.5 * IIIIIIZZIIIIIIII\n",
            "- 346.0 * IIIIIIIIZIIIIIII\n",
            "+ 86.5 * ZIIIIIIIZIIIIIII\n",
            "+ 86.5 * IIIIZIIIZIIIIIII\n",
            "- 346.0 * IIIIIIIIIZIIIIII\n",
            "+ 86.5 * IZIIIIIIIZIIIIII\n",
            "+ 86.5 * IIIIIZIIIZIIIIII\n",
            "+ 86.5 * IIIIIIIIZZIIIIII\n",
            "- 346.0 * IIIIIIIIIIZIIIII\n",
            "+ 86.5 * IIZIIIIIIIZIIIII\n",
            "+ 86.5 * IIIIIIZIIIZIIIII\n",
            "+ 86.5 * IIIIIIIIZIZIIIII\n",
            "+ 86.5 * IIIIIIIIIZZIIIII\n",
            "- 346.0 * IIIIIIIIIIIZIIII\n",
            "+ 86.5 * IIIZIIIIIIIZIIII\n",
            "+ 86.5 * IIIIIIIZIIIZIIII\n",
            "+ 86.5 * IIIIIIIIZIIZIIII\n",
            "+ 86.5 * IIIIIIIIIZIZIIII\n",
            "+ 86.5 * IIIIIIIIIIZZIIII\n",
            "- 330.0 * IIIIIIIIIIIIZIII\n",
            "+ 86.5 * ZIIIIIIIIIIIZIII\n",
            "+ 86.5 * IIIIZIIIIIIIZIII\n",
            "+ 86.5 * IIIIIIIIZIIIZIII\n",
            "- 317.5 * IIIIIIIIIIIIIZII\n",
            "+ 86.5 * IZIIIIIIIIIIIZII\n",
            "+ 86.5 * IIIIIZIIIIIIIZII\n",
            "+ 86.5 * IIIIIIIIIZIIIZII\n",
            "+ 79.0 * IIIIIIIIIIIIZZII\n",
            "- 324.0 * IIIIIIIIIIIIIIZI\n",
            "+ 86.5 * IIZIIIIIIIIIIIZI\n",
            "+ 86.5 * IIIIIIZIIIIIIIZI\n",
            "+ 86.5 * IIIIIIIIIIZIIIZI\n",
            "+ 86.5 * IIIIIIIIIIIIZIZI\n",
            "+ 76.5 * IIIIIIIIIIIIIZZI\n",
            "- 326.5 * IIIIIIIIIIIIIIIZ\n",
            "+ 86.5 * IIIZIIIIIIIIIIIZ\n",
            "+ 86.5 * IIIIIIIZIIIIIIIZ\n",
            "+ 86.5 * IIIIIIIIIIIZIIIZ\n",
            "+ 84.0 * IIIIIIIIIIIIZIIZ\n",
            "+ 79.5 * IIIIIIIIIIIIIZIZ\n",
            "+ 76.5 * IIIIIIIIIIIIIIZZ\n"
          ]
        }
      ]
    },
    {
      "cell_type": "markdown",
      "metadata": {
        "id": "OFXwl9ybKj9p"
      },
      "source": [
        "# Running on a Quantum Computer"
      ]
    },
    {
      "cell_type": "code",
      "metadata": {
        "id": "A_U2KZgld44E"
      },
      "source": [
        "algorithm_globals.random_seed = 123\n",
        "seed = 10598\n",
        "backend = Aer.get_backend('qasm_simulator')\n",
        "quantum_instance = QuantumInstance(backend, seed_simulator=seed, seed_transpiler=seed)"
      ],
      "execution_count": 30,
      "outputs": []
    },
    {
      "cell_type": "code",
      "metadata": {
        "id": "THMw16LPTenx"
      },
      "source": [
        "from qiskit.circuit.library import TwoLocal\n",
        "from qiskit_optimization.applications import Maxcut, Tsp\n",
        "from qiskit.algorithms import VQE, NumPyMinimumEigensolver\n",
        "from qiskit.algorithms.optimizers import SPSA\n",
        "from qiskit.utils import algorithm_globals, QuantumInstance\n",
        "from qiskit_optimization.algorithms import MinimumEigenOptimizer\n",
        "from qiskit_optimization.problems import QuadraticProgram"
      ],
      "execution_count": 24,
      "outputs": []
    },
    {
      "cell_type": "code",
      "metadata": {
        "id": "uc4Enefjd44G",
        "colab": {
          "base_uri": "https://localhost:8080/"
        },
        "outputId": "d646ea4f-f9e9-48ec-e0e9-f49718d5b183"
      },
      "source": [
        "spsa = SPSA(maxiter=300)\n",
        "ry = TwoLocal(qubitOp.num_qubits, 'ry', 'cz', reps=5, entanglement='linear')\n",
        "vqe = VQE(ry, optimizer=spsa, quantum_instance=quantum_instance)\n",
        "\n",
        "result = vqe.compute_minimum_eigenvalue(qubitOp)\n",
        "\n",
        "print('energy:', result.eigenvalue.real)\n",
        "print('time:', result.optimizer_time)\n",
        "x = tsp.sample_most_likely(result.eigenstate)\n",
        "print('feasible:', qubo.is_feasible(x))\n",
        "z = tsp.interpret(x)\n",
        "print('solution:', z)\n",
        "print('solution objective:', tsp.tsp_value(z, weight_matrix))"
      ],
      "execution_count": 31,
      "outputs": [
        {
          "output_type": "stream",
          "name": "stdout",
          "text": [
            "energy: -2417.052734375\n",
            "time: 382.99938917160034\n",
            "feasible: True\n",
            "solution: [2, 3, 0, 1]\n",
            "solution objective: 60.0\n"
          ]
        }
      ]
    }
  ]
}
